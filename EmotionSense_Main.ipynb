{
  "nbformat": 4,
  "nbformat_minor": 0,
  "metadata": {
    "colab": {
      "provenance": [],
      "authorship_tag": "ABX9TyP1wBoAg04YbPdP4HNpFZx8",
      "include_colab_link": true
    },
    "kernelspec": {
      "name": "python3",
      "display_name": "Python 3"
    },
    "language_info": {
      "name": "python"
    }
  },
  "cells": [
    {
      "cell_type": "markdown",
      "metadata": {
        "id": "view-in-github",
        "colab_type": "text"
      },
      "source": [
        "<a href=\"https://colab.research.google.com/github/manishlalwani123/Applicaiton/blob/main/EmotionSense_Main.ipynb\" target=\"_parent\"><img src=\"https://colab.research.google.com/assets/colab-badge.svg\" alt=\"Open In Colab\"/></a>"
      ]
    },
    {
      "cell_type": "code",
      "source": [],
      "metadata": {
        "id": "2f3nwZEb6gz2"
      },
      "execution_count": null,
      "outputs": []
    },
    {
      "cell_type": "code",
      "source": [
        "import string\n",
        "from collections import Counter"
      ],
      "metadata": {
        "id": "xU2TVYrU3aBw"
      },
      "execution_count": null,
      "outputs": []
    },
    {
      "cell_type": "code",
      "source": [
        "import matplotlib.pyplot as plt"
      ],
      "metadata": {
        "id": "8HI2XDUo3f7D"
      },
      "execution_count": null,
      "outputs": []
    },
    {
      "cell_type": "code",
      "source": [
        "text = open(\"read.txt\", encoding=\"utf-8\").read()"
      ],
      "metadata": {
        "id": "Ch_-m2xo3ndb"
      },
      "execution_count": null,
      "outputs": []
    },
    {
      "cell_type": "code",
      "source": [
        "lower_case = text.lower()"
      ],
      "metadata": {
        "id": "alU4aqyl3zaV"
      },
      "execution_count": null,
      "outputs": []
    },
    {
      "cell_type": "code",
      "source": [
        "# Removing punctuations\n",
        "cleaned_text = lower_case.translate(str.maketrans('', '', string.punctuation))"
      ],
      "metadata": {
        "id": "Z0PT6Ffh32A3"
      },
      "execution_count": null,
      "outputs": []
    },
    {
      "cell_type": "code",
      "source": [
        "# splitting text into words\n",
        "tokenized_words = cleaned_text.split()"
      ],
      "metadata": {
        "id": "d6l-0Apv34Cz"
      },
      "execution_count": null,
      "outputs": []
    },
    {
      "cell_type": "code",
      "source": [
        "stop_words = ['i', 'me', 'my', 'myself', 'we', 'our', 'ours', 'ourselves',\n",
        " 'you', 'your', 'yours', 'yourself', 'yourselves',\n",
        " 'he', 'him', 'his', 'himself', 'she', 'her', 'hers', 'herself',\n",
        " 'it', 'its', 'itself', 'they', 'them', 'their', 'theirs', 'themselves',\n",
        " 'what', 'which', 'who', 'whom', 'this', 'that', 'these', 'those',\n",
        " 'am', 'is', 'are', 'was', 'were', 'be', 'been', 'being',\n",
        " 'have', 'has', 'had', 'having',\n",
        " 'do', 'does', 'did', 'doing',\n",
        " 'a', 'an', 'the',\n",
        " 'and', 'but', 'if', 'or', 'because', 'as',\n",
        " 'until', 'while', 'of', 'at', 'by', 'for', 'with', 'about', 'against',\n",
        " 'between', 'into', 'through', 'during', 'before', 'after', 'above', 'below',\n",
        " 'to', 'from', 'up', 'down', 'in', 'out', 'on', 'off', 'over', 'under',\n",
        " 'again', 'further', 'then', 'once',\n",
        " 'here', 'there', 'when', 'where', 'why', 'how',\n",
        " 'all', 'any', 'both', 'each', 'few', 'more', 'most', 'other', 'some', 'such',\n",
        " 'no', 'nor', 'not', 'only', 'own', 'same', 'so', 'than', 'too', 'very',\n",
        " 'can', 'will', 'just', 'don', 'should', 'now']"
      ],
      "metadata": {
        "id": "-5_go6wm3698"
      },
      "execution_count": null,
      "outputs": []
    },
    {
      "cell_type": "code",
      "source": [
        "# Removing stop words from the tokenized words list\n",
        "final_words = []\n",
        "for word in tokenized_words:\n",
        "    if word not in stop_words:\n",
        "        final_words.append(word)"
      ],
      "metadata": {
        "id": "W83xJb4p39Pe"
      },
      "execution_count": null,
      "outputs": []
    },
    {
      "cell_type": "code",
      "source": [
        "emotion_list = []\n",
        "\n",
        "with open('emotions.txt', 'r') as file:\n",
        "    for line in file:\n",
        "        clear_line = line.replace(\"\\n\", '').replace(\",\", '').replace(\"'\", '').strip()\n",
        "\n",
        "        # Skip lines that don't contain \":\"\n",
        "        if \":\" not in clear_line:\n",
        "            continue\n",
        "\n",
        "        word, emotion = clear_line.split(':')\n",
        "\n",
        "        if word in final_words:\n",
        "            emotion_list.append(emotion)\n"
      ],
      "metadata": {
        "id": "dEOAi2sI4CTq"
      },
      "execution_count": null,
      "outputs": []
    },
    {
      "cell_type": "code",
      "source": [
        "print(emotion_list)\n",
        "w = Counter(emotion_list)\n",
        "print(w)"
      ],
      "metadata": {
        "colab": {
          "base_uri": "https://localhost:8080/"
        },
        "id": "3Z-ptmkx4we0",
        "outputId": "8d2a8cd2-37ae-4c4c-db64-59ff237e674e"
      },
      "execution_count": null,
      "outputs": [
        {
          "output_type": "stream",
          "name": "stdout",
          "text": [
            "[' happy', ' happy', ' attached', ' happy', ' attracted', ' alone', ' free', ' hated', ' happy', ' entitled', ' happy', ' loved', ' hated', ' entitled']\n",
            "Counter({' happy': 5, ' hated': 2, ' entitled': 2, ' attached': 1, ' attracted': 1, ' alone': 1, ' free': 1, ' loved': 1})\n"
          ]
        }
      ]
    },
    {
      "cell_type": "code",
      "source": [
        "\n",
        "fig, ax1 = plt.subplots()\n",
        "ax1.bar(w.keys(), w.values())\n",
        "fig.autofmt_xdate()\n",
        "plt.savefig('graph.png')\n",
        "plt.show()"
      ],
      "metadata": {
        "colab": {
          "base_uri": "https://localhost:8080/",
          "height": 419
        },
        "id": "XA6RCT6A5muI",
        "outputId": "7384a485-33c0-460f-d4d6-402ee27b2c43"
      },
      "execution_count": null,
      "outputs": [
        {
          "output_type": "display_data",
          "data": {
            "text/plain": [
              "<Figure size 640x480 with 1 Axes>"
            ],
            "image/png": "[encoded data removed]"
          },
          "metadata": {}
        }
      ]
    },
    {
      "cell_type": "code",
      "source": [
        "# main Nltk\n",
        "\n",
        "import nltk\n",
        "# nltk.download()\n",
        "\n",
        "nltk.download('punkt')\n",
        "nltk.download('punkt_tab')\n"
      ],
      "metadata": {
        "colab": {
          "base_uri": "https://localhost:8080/"
        },
        "id": "qssQZuc96eFm",
        "outputId": "657654d2-670a-41d1-9605-7e5a6aa5e4b2"
      },
      "execution_count": null,
      "outputs": [
        {
          "output_type": "stream",
          "name": "stderr",
          "text": [
            "[nltk_data] Downloading package punkt to /root/nltk_data...\n",
            "[nltk_data]   Unzipping tokenizers/punkt.zip.\n",
            "[nltk_data] Downloading package punkt_tab to /root/nltk_data...\n",
            "[nltk_data]   Unzipping tokenizers/punkt_tab.zip.\n"
          ]
        },
        {
          "output_type": "execute_result",
          "data": {
            "text/plain": [
              "True"
            ]
          },
          "metadata": {},
          "execution_count": 16
        }
      ]
    },
    {
      "cell_type": "code",
      "source": [
        "import string\n",
        "from collections import Counter\n",
        "\n",
        "import matplotlib.pyplot as plt\n",
        "from nltk.corpus import stopwords\n",
        "from nltk.sentiment.vader import SentimentIntensityAnalyzer\n",
        "from nltk.stem import WordNetLemmatizer\n",
        "from nltk.tokenize import word_tokenize\n"
      ],
      "metadata": {
        "id": "7570UfKl6xn7"
      },
      "execution_count": null,
      "outputs": []
    },
    {
      "cell_type": "code",
      "source": [
        "text = open('read.txt', encoding='utf-8').read()\n",
        "lower_case = text.lower()\n",
        "cleaned_text = lower_case.translate(str.maketrans('', '', string.punctuation))\n"
      ],
      "metadata": {
        "id": "Vl7LFh__6zqS"
      },
      "execution_count": null,
      "outputs": []
    },
    {
      "cell_type": "code",
      "source": [
        "# Using word_tokenize because it's faster than split()\n",
        "tokenized_words = word_tokenize(cleaned_text, \"english\")\n"
      ],
      "metadata": {
        "id": "cbHf5lSU6zKl"
      },
      "execution_count": null,
      "outputs": []
    },
    {
      "cell_type": "code",
      "source": [
        "nltk.download('stopwords')\n",
        "# Removing Stop Words\n",
        "final_words = []\n",
        "for word in tokenized_words:\n",
        "    if word not in stopwords.words('english'):\n",
        "        final_words.append(word)"
      ],
      "metadata": {
        "colab": {
          "base_uri": "https://localhost:8080/"
        },
        "id": "Ig3wKfea8T8O",
        "outputId": "106f8bd0-a6c2-43c7-ee9c-8f153c8c2d2a"
      },
      "execution_count": null,
      "outputs": [
        {
          "output_type": "stream",
          "name": "stderr",
          "text": [
            "[nltk_data] Downloading package stopwords to /root/nltk_data...\n",
            "[nltk_data]   Unzipping corpora/stopwords.zip.\n"
          ]
        }
      ]
    },
    {
      "cell_type": "code",
      "source": [
        "nltk.download('wordnet')\n",
        "# Lemmatization - From plural to single + Base form of a word (example better-> good)\n",
        "lemma_words = []\n",
        "for word in final_words:\n",
        "    word = WordNetLemmatizer().lemmatize(word)\n",
        "    lemma_words.append(word)"
      ],
      "metadata": {
        "colab": {
          "base_uri": "https://localhost:8080/"
        },
        "id": "Z6vFT6xq8hzk",
        "outputId": "f2f17678-1792-47a3-9c7d-8b5acbc1c604"
      },
      "execution_count": null,
      "outputs": [
        {
          "output_type": "stream",
          "name": "stderr",
          "text": [
            "[nltk_data] Downloading package wordnet to /root/nltk_data...\n"
          ]
        }
      ]
    },
    {
      "cell_type": "code",
      "source": [
        "emotion_list = []\n",
        "\n",
        "with open('emotions.txt', 'r', encoding='utf-8') as file:\n",
        "    for line in file:\n",
        "        clear_line = line.replace(\"\\n\", '').replace(\",\", '').replace(\"'\", '').strip()\n",
        "\n",
        "        # Skip lines that don't contain exactly one ':'\n",
        "        if ':' not in clear_line:\n",
        "            continue\n",
        "\n",
        "        try:\n",
        "            word, emotion = clear_line.split(':')\n",
        "            if word in lemma_words:\n",
        "                emotion_list.append(emotion)\n",
        "        except ValueError:\n",
        "            print(f\"Skipping invalid line: {clear_line}\")\n"
      ],
      "metadata": {
        "id": "9Dj6SZRj8ppf"
      },
      "execution_count": null,
      "outputs": []
    },
    {
      "cell_type": "code",
      "source": [
        "print(emotion_list)\n",
        "w = Counter(emotion_list)\n",
        "print(w)"
      ],
      "metadata": {
        "colab": {
          "base_uri": "https://localhost:8080/"
        },
        "id": "S-UTYk4E9BB9",
        "outputId": "a00ce30b-4307-4321-efde-cbc6113999a5"
      },
      "execution_count": null,
      "outputs": [
        {
          "output_type": "stream",
          "name": "stdout",
          "text": [
            "[' happy', ' happy', ' attached', ' happy', ' attracted', ' alone', ' free', ' hated', ' happy', ' entitled', ' happy', ' loved', ' hated', ' entitled']\n",
            "Counter({' happy': 5, ' hated': 2, ' entitled': 2, ' attached': 1, ' attracted': 1, ' alone': 1, ' free': 1, ' loved': 1})\n"
          ]
        }
      ]
    },
    {
      "cell_type": "code",
      "source": [
        "def sentiment_analyse(sentiment_text):\n",
        "    score = SentimentIntensityAnalyzer().polarity_scores(sentiment_text)\n",
        "    if score['neg'] > score['pos']:\n",
        "        print(\"Negative Sentiment\")\n",
        "    elif score['neg'] < score['pos']:\n",
        "        print(\"Positive Sentiment\")\n",
        "    else:\n",
        "        print(\"Neutral Sentiment\")"
      ],
      "metadata": {
        "id": "vfME-JZv9EEU"
      },
      "execution_count": null,
      "outputs": []
    },
    {
      "cell_type": "code",
      "source": [
        "nltk.download('vader_lexicon')\n",
        "sentiment_analyse(cleaned_text)\n"
      ],
      "metadata": {
        "colab": {
          "base_uri": "https://localhost:8080/"
        },
        "id": "YCZI-DD19F_g",
        "outputId": "5761a526-cc0c-4214-ee54-9454deda8603"
      },
      "execution_count": null,
      "outputs": [
        {
          "output_type": "stream",
          "name": "stdout",
          "text": [
            "Positive Sentiment\n"
          ]
        },
        {
          "output_type": "stream",
          "name": "stderr",
          "text": [
            "[nltk_data] Downloading package vader_lexicon to /root/nltk_data...\n"
          ]
        }
      ]
    },
    {
      "cell_type": "code",
      "source": [
        "fig, ax1 = plt.subplots()\n",
        "ax1.bar(w.keys(), w.values())\n",
        "fig.autofmt_xdate()\n",
        "plt.savefig('graph.png')\n",
        "plt.show()"
      ],
      "metadata": {
        "colab": {
          "base_uri": "https://localhost:8080/",
          "height": 419
        },
        "id": "1IMCn7Tt9MJc",
        "outputId": "1e07cfae-ae9c-4d38-9ac4-f2742d567be7"
      },
      "execution_count": null,
      "outputs": [
        {
          "output_type": "display_data",
          "data": {
            "text/plain": [
              "<Figure size 640x480 with 1 Axes>"
            ],
            "image/png": "[encoded data removed]"
          },
          "metadata": {}
        }
      ]
    },
    {
      "cell_type": "code",
      "source": [
        "# twitter analysis\n"
      ],
      "metadata": {
        "id": "9aCwtzBr5RIw"
      },
      "execution_count": null,
      "outputs": []
    }
  ]
}